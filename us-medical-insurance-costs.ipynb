{
 "cells": [
  {
   "attachments": {},
   "cell_type": "markdown",
   "metadata": {},
   "source": [
    "# U.S. Medical Insurance Costs\n",
    "\n",
    "In this project I am going to take a look a medical data costs and its relationship with a persons' attributes. I am going to use Python as the main tool for the analysis. The following objectives are that I am going to explore with this data:\n",
    "\n",
    "* Check male and female data\n",
    "* Average insurance cost\n",
    "* Average savings a smoker can have if they would quit smoking\n",
    "* Does it exist a region where the insurance is the most expensive, and which one is it?\n",
    "\n"
   ]
  },
  {
   "cell_type": "code",
   "execution_count": 2,
   "metadata": {},
   "outputs": [],
   "source": [
    "# import csv library since the data is in this format\n",
    "import csv\n",
    "\n",
    "# Also, import locale library to format currency\n",
    "import locale\n",
    "locale.setlocale( locale.LC_ALL, 'en_US' )\n",
    "\n",
    "# Create lists to store data to analyze\n",
    "ages = []\n",
    "sexes = []\n",
    "bmis = []\n",
    "num_children = []\n",
    "smoker_statuses = []\n",
    "regions = []\n",
    "insurance_charges = []\n"
   ]
  },
  {
   "attachments": {},
   "cell_type": "markdown",
   "metadata": {},
   "source": [
    "Next, populate the empty lists with the data. With these lists we can calculate averages, max and min of the different numerical data. Also, we can count the incidence in different categorical attributes."
   ]
  },
  {
   "cell_type": "code",
   "execution_count": 3,
   "metadata": {},
   "outputs": [],
   "source": [
    "def load_file(file):\n",
    "  # Open file given filename\n",
    "  with open(file) as medical_costs_csv:\n",
    "    medical_costs_reader = csv.DictReader(medical_costs_csv)\n",
    "    # Create lists with each column from the file\n",
    "    for row in medical_costs_reader:\n",
    "      ages.append(row[\"age\"])\n",
    "      sexes.append(row[\"sex\"])\n",
    "      bmis.append(row[\"bmi\"])\n",
    "      num_children.append(row[\"children\"])\n",
    "      smoker_statuses.append(row[\"smoker\"])\n",
    "      regions.append(row[\"region\"])\n",
    "      insurance_charges.append(row[\"charges\"])\n",
    "  \n",
    "load_file(\"insurance.csv\")"
   ]
  },
  {
   "attachments": {},
   "cell_type": "markdown",
   "metadata": {},
   "source": [
    "### How many Females and Males in data:"
   ]
  },
  {
   "cell_type": "code",
   "execution_count": 4,
   "metadata": {},
   "outputs": [
    {
     "name": "stdout",
     "output_type": "stream",
     "text": [
      "There are 662 females and 676 males in the data\n"
     ]
    }
   ],
   "source": [
    "def analyze_sexes():\n",
    "  # initialize variable for the count\n",
    "  female = 0\n",
    "  male = 0\n",
    "  # loop through sexes list\n",
    "  for s in sexes:\n",
    "    if s == \"female\":\n",
    "      female += 1\n",
    "    else:\n",
    "      male += 1\n",
    "\n",
    "  print(f\"There are {female} females and {male} males in the data\")\n",
    "\n",
    "analyze_sexes()"
   ]
  },
  {
   "attachments": {},
   "cell_type": "markdown",
   "metadata": {},
   "source": [
    "### Calculate average Age of patients in Data"
   ]
  },
  {
   "cell_type": "code",
   "execution_count": 5,
   "metadata": {},
   "outputs": [
    {
     "name": "stdout",
     "output_type": "stream",
     "text": [
      "Average patient age is: 39.21 years\n"
     ]
    }
   ],
   "source": [
    "def calculate_avg(data):\n",
    "  total = 0\n",
    "  for d in data:\n",
    "    total += float(d)\n",
    "  return round(total/len(data), 2)\n",
    "\n",
    "print(f\"Average patient age is: {calculate_avg(ages)} years\")\n"
   ]
  },
  {
   "attachments": {},
   "cell_type": "markdown",
   "metadata": {},
   "source": [
    "### Average savings between non-smoker and smoker"
   ]
  },
  {
   "cell_type": "code",
   "execution_count": 6,
   "metadata": {},
   "outputs": [
    {
     "name": "stdout",
     "output_type": "stream",
     "text": [
      "Average Smoker insurance cost:        $32,050.23\n",
      "Average Non-smoker insurance cost:    $8,434.27\n",
      "------------------------------------------------\n",
      "Non-smoker vs Smoker savings are:     $23,615.96\n"
     ]
    }
   ],
   "source": [
    "def average_savings_nonsmokers_vs_smoker():\n",
    "  # Create a list pairing smorker status and cost for easier manipulation\n",
    "  smoker_status_cost = list(zip(smoker_statuses, insurance_charges))\n",
    "\n",
    "  smoker_total_cost = 0\n",
    "  smoker_avg_cost = 0\n",
    "  non_smoker_total_cost = 0\n",
    "  non_smoker_avg_cost = 0\n",
    "  total_smokers = 0\n",
    "  total_non_smokers = 0\n",
    "  for i in smoker_status_cost:\n",
    "    if i[0] == \"yes\":\n",
    "      smoker_total_cost += float(i[1])\n",
    "      total_smokers += 1\n",
    "    else:\n",
    "      non_smoker_total_cost += float(i[1])\n",
    "      total_non_smokers += 1\n",
    "\n",
    "  smoker_avg_cost = smoker_total_cost / total_smokers\n",
    "  non_smoker_avg_cost = non_smoker_total_cost / total_non_smokers\n",
    "\n",
    "  print(f\"Average Smoker insurance cost:        {locale.currency(smoker_avg_cost, grouping=True)}\")\n",
    "  print(f\"Average Non-smoker insurance cost:    {locale.currency(non_smoker_avg_cost, grouping=True)}\")\n",
    "  print(\"------------------------------------------------\")\n",
    "  print(f\"Non-smoker vs Smoker savings are:     {locale.currency(smoker_avg_cost - non_smoker_avg_cost, grouping=True)}\")\n",
    "\n",
    "average_savings_nonsmokers_vs_smoker()"
   ]
  },
  {
   "attachments": {},
   "cell_type": "markdown",
   "metadata": {},
   "source": [
    "### Find unique regions\n",
    "\n",
    "For the most expensive region, lets first find the unique regions"
   ]
  },
  {
   "cell_type": "code",
   "execution_count": 7,
   "metadata": {},
   "outputs": [
    {
     "data": {
      "text/plain": [
       "['southwest', 'southeast', 'northwest', 'northeast']"
      ]
     },
     "execution_count": 7,
     "metadata": {},
     "output_type": "execute_result"
    }
   ],
   "source": [
    "def list_unique_regions():\n",
    "    unique_regions = []\n",
    "\n",
    "    for region in regions:\n",
    "        if region not in unique_regions: \n",
    "            unique_regions.append(region)\n",
    "\n",
    "    return unique_regions\n",
    "\n",
    "list_unique_regions()"
   ]
  },
  {
   "attachments": {},
   "cell_type": "markdown",
   "metadata": {},
   "source": [
    "## Caculate and compare average cost\n",
    "Now, lets compare each region's average cost"
   ]
  },
  {
   "cell_type": "code",
   "execution_count": 8,
   "metadata": {},
   "outputs": [
    {
     "name": "stdout",
     "output_type": "stream",
     "text": [
      "Average cost for southwest: $12,346.94\n",
      "Average cost for southeast: $14,735.41\n",
      "Average cost for northwest: $12,417.58\n",
      "Average cost for northeast: $13,406.38\n"
     ]
    }
   ],
   "source": [
    "def avg_cost_per_region():\n",
    "  region_costs = list(zip(regions, insurance_charges))\n",
    "\n",
    "  unique_region_avg_cost = {}\n",
    "\n",
    "  for region in list_unique_regions():\n",
    "    unique_region_avg_cost[region] = 0\n",
    "    unique_region_total_cost = 0\n",
    "    count = 0\n",
    "    for i in region_costs:\n",
    "      if i[0] == region:\n",
    "        unique_region_total_cost += float(i[1])\n",
    "        count += 1\n",
    "    unique_region_avg_cost[region] = unique_region_total_cost / count\n",
    "    print(f\"Average cost for {region}: {locale.currency(unique_region_avg_cost[region], grouping=True)}\")\n",
    "\n",
    "avg_cost_per_region()"
   ]
  },
  {
   "attachments": {},
   "cell_type": "markdown",
   "metadata": {},
   "source": [
    "Southeast region has the highest average insurance cost."
   ]
  }
 ],
 "metadata": {
  "kernelspec": {
   "display_name": "Python 3",
   "language": "python",
   "name": "python3"
  },
  "language_info": {
   "codemirror_mode": {
    "name": "ipython",
    "version": 3
   },
   "file_extension": ".py",
   "mimetype": "text/x-python",
   "name": "python",
   "nbconvert_exporter": "python",
   "pygments_lexer": "ipython3",
   "version": "3.10.9"
  },
  "vscode": {
   "interpreter": {
    "hash": "b0fa6594d8f4cbf19f97940f81e996739fb7646882a419484c72d19e05852a7e"
   }
  }
 },
 "nbformat": 4,
 "nbformat_minor": 4
}
